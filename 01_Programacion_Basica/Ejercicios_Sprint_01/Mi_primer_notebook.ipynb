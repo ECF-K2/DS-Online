{
 "cells": [
  {
   "cell_type": "code",
   "execution_count": 1,
   "id": "e675d200-6d35-47fa-be6e-3ce3b4ebc9a0",
   "metadata": {},
   "outputs": [
    {
     "name": "stdout",
     "output_type": "stream",
     "text": [
      "Hola peña\n"
     ]
    }
   ],
   "source": [
    "print(\"Hola peña\")"
   ]
  },
  {
   "cell_type": "markdown",
   "id": "b6351470-1353-43b9-921e-7d6db8b38075",
   "metadata": {},
   "source": [
    "Hola gente"
   ]
  },
  {
   "cell_type": "code",
   "execution_count": null,
   "id": "afc42c2e-e610-489f-9c06-030ff1138219",
   "metadata": {},
   "outputs": [],
   "source": []
  }
 ],
 "metadata": {
  "kernelspec": {
   "display_name": "Python 3 (ipykernel)",
   "language": "python",
   "name": "python3"
  },
  "language_info": {
   "codemirror_mode": {
    "name": "ipython",
    "version": 3
   },
   "file_extension": ".py",
   "mimetype": "text/x-python",
   "name": "python",
   "nbconvert_exporter": "python",
   "pygments_lexer": "ipython3",
   "version": "3.13.8"
  }
 },
 "nbformat": 4,
 "nbformat_minor": 5
}
