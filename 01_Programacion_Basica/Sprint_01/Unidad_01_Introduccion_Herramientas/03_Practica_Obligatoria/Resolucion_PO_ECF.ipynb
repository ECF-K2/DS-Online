{
 "cells": [
  {
   "cell_type": "markdown",
   "id": "76fc335d-7ea9-406a-bc18-3428f64a9572",
   "metadata": {},
   "source": [
    "# Aptitudes en Data Science\n",
    "> ## Lo más importante\n",
    "> + Matemáticas\n",
    "> + Python\n",
    "> + SQL\n",
    ">   \n",
    ">   ![logo](./img/python.png)\n",
    ">\n",
    "> Otro tema importante es la **Estadística**  \n",
    "> Si tienes dudas puedes escribirnos a: [ta_ds_online@thebridgeschool.es](mailto:ta_ds_online@thebridgeschool.es)  \n",
    "> Y en esta web se aprende mucho sobre Machine Learning [Kaggle](https://kaggle.com)"
   ]
  },
  {
   "cell_type": "code",
   "execution_count": null,
   "id": "31177a3d-2189-4264-8761-2005cb86bc15",
   "metadata": {},
   "outputs": [],
   "source": []
  }
 ],
 "metadata": {
  "kernelspec": {
   "display_name": "Python 3 (ipykernel)",
   "language": "python",
   "name": "python3"
  },
  "language_info": {
   "codemirror_mode": {
    "name": "ipython",
    "version": 3
   },
   "file_extension": ".py",
   "mimetype": "text/x-python",
   "name": "python",
   "nbconvert_exporter": "python",
   "pygments_lexer": "ipython3",
   "version": "3.13.8"
  }
 },
 "nbformat": 4,
 "nbformat_minor": 5
}
